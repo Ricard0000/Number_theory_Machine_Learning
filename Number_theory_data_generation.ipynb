{
  "nbformat": 4,
  "nbformat_minor": 0,
  "metadata": {
    "colab": {
      "name": "Number_theory_data_generation.ipynb",
      "provenance": [],
      "authorship_tag": "ABX9TyMjfYU1k/Qk2uMr9xrkPd4D",
      "include_colab_link": true
    },
    "kernelspec": {
      "name": "python3",
      "display_name": "Python 3"
    }
  },
  "cells": [
    {
      "cell_type": "markdown",
      "metadata": {
        "id": "view-in-github",
        "colab_type": "text"
      },
      "source": [
        "<a href=\"https://colab.research.google.com/github/Ricard0000/Number_theory_Machine_Learning/blob/main/Number_theory_data_generation.ipynb\" target=\"_parent\"><img src=\"https://colab.research.google.com/assets/colab-badge.svg\" alt=\"Open In Colab\"/></a>"
      ]
    },
    {
      "cell_type": "code",
      "metadata": {
        "colab": {
          "base_uri": "https://localhost:8080/"
        },
        "id": "3crTLl9hglx9",
        "outputId": "0f75762e-41cf-43dc-d7b5-8b18dc16c567"
      },
      "source": [
        "from google.colab import drive\r\n",
        "drive.mount(\"/content/gdrive\")"
      ],
      "execution_count": 1,
      "outputs": [
        {
          "output_type": "stream",
          "text": [
            "Mounted at /content/gdrive\n"
          ],
          "name": "stdout"
        }
      ]
    },
    {
      "cell_type": "markdown",
      "metadata": {
        "id": "TsScDq9qNTZU"
      },
      "source": [
        "**Generate data:** This code will generate numbers of interest to number theorists. This includes integers, primes, divisors, arithmetic functions. The later code will find retationships between these using Machine Learning techniques."
      ]
    },
    {
      "cell_type": "code",
      "metadata": {
        "colab": {
          "base_uri": "https://localhost:8080/",
          "height": 923
        },
        "id": "4MjYbVk6Egcy",
        "outputId": "54a5c159-91a1-422d-b65c-3d514fe74bab"
      },
      "source": [
        "import sys\r\n",
        "sys.path.insert(0, '../../Utilities/')\r\n",
        "from mpl_toolkits.mplot3d import Axes3D\r\n",
        "import tensorflow.compat.v1 as tf\r\n",
        "tf.disable_v2_behavior()\r\n",
        "#import tensorflow as tf\r\n",
        "import numpy as np\r\n",
        "import matplotlib.pyplot as plt\r\n",
        "import time\r\n",
        "import scipy.io\r\n",
        "from scipy.io import savemat\r\n",
        "import math \r\n",
        "\r\n",
        "\r\n",
        "def divisors(N):\r\n",
        "    A=np.zeros(N,dtype=np.int32)\r\n",
        "    J=0\r\n",
        "    for I in range(1,N+1):\r\n",
        "        if np.mod(N,I)==0:\r\n",
        "            A[J]=I\r\n",
        "            J=J+1\r\n",
        "    B=np.zeros(J,dtype=np.int32)\r\n",
        "    for I in range(0,J):\r\n",
        "        B[I]=A[I]\r\n",
        "    if np.size(B)==2:\r\n",
        "        p=B[1]\r\n",
        "    else:\r\n",
        "        p=0\r\n",
        "    return A,p\r\n",
        "    \r\n",
        "def mobius(N,prime_list):\r\n",
        "    J=0\r\n",
        "    temp_list=0*prime_list\r\n",
        "    for I in range(0,np.size(prime_list)):\r\n",
        "        if np.mod(N,prime_list[I])==0:\r\n",
        "            temp_list[J]=prime_list[I]\r\n",
        "            J=J+1\r\n",
        "    temp=1\r\n",
        "    for I in range(0,J):\r\n",
        "        temp=temp*temp_list[I]\r\n",
        "    if N==temp:\r\n",
        "        val=(-1)**J\r\n",
        "    else:\r\n",
        "        val=0\r\n",
        "    return val\r\n",
        "\r\n",
        "def Liouville(N,prime_list):\r\n",
        "    J=0\r\n",
        "    temp_list=0*prime_list\r\n",
        "    raise_power=0*prime_list\r\n",
        "    for I in range(0,np.size(prime_list)):\r\n",
        "        raise_power[I]=0\r\n",
        "        if np.mod(N,prime_list[I])==0:\r\n",
        "            while (np.mod(N,prime_list[I]**raise_power[I])==0):\r\n",
        "                raise_power[I]=raise_power[I]+1\r\n",
        "            raise_power[I]=raise_power[I]-1\r\n",
        "        else:\r\n",
        "            raise_power[I]=0\r\n",
        "#            temp_list[J]=prime_list[I]\r\n",
        "#            J=J+1\r\n",
        "    temp=1\r\n",
        "#    for I in range(0,J):\r\n",
        "    for I in range(0,np.size(prime_list)):\r\n",
        "        temp=((-1)**(raise_power[I]))*temp\r\n",
        "    val=temp\r\n",
        "    return val\r\n",
        "\r\n",
        "\r\n",
        "\r\n",
        "def totient(N):\r\n",
        "    J=0\r\n",
        "    for I in range(0,N):\r\n",
        "        if math.gcd(N,I)==1:\r\n",
        "            J=J+1\r\n",
        "    val=J\r\n",
        "    return val\r\n",
        "\r\n",
        "#find divisors of integers greater than 2 but less than or equal to N\r\n",
        "\r\n",
        "N=300\r\n",
        "int_list=np.zeros([N],dtype=np.int32)\r\n",
        "p=np.zeros([N],dtype=np.int32)\r\n",
        "mob=np.zeros([N],dtype=np.int32)\r\n",
        "mob[0]=1\r\n",
        "tot=np.zeros([N],dtype=np.int32)\r\n",
        "tot[0]=1\r\n",
        "lio=np.zeros([N],dtype=np.int32)\r\n",
        "ident=np.zeros([N],dtype=np.int32)\r\n",
        "\r\n",
        "\r\n",
        "#DATA FOR INTEGERS\r\n",
        "for I in range(1,N+1):\r\n",
        "    int_list[I-1]=I\r\n",
        "\r\n",
        "#DATA FOR TOTIENT FUNCTION\r\n",
        "for I in range(1,N+1):\r\n",
        "    tot[I-1]=totient(I)\r\n",
        "\r\n",
        "\r\n",
        "\r\n",
        "#DATA FOR DIVISORS\r\n",
        "\r\n",
        "d=np.zeros([N,N],dtype=np.int32)\r\n",
        "for I in range(1,N+1):\r\n",
        "    temp,prime=divisors(I)\r\n",
        "    for J in range(0,I):\r\n",
        "        d[I-1,J]=temp[J]\r\n",
        "    p[I-1]=prime\r\n",
        "J=0\r\n",
        "for I in range(1,N):\r\n",
        "    if p[I-1]!=0:\r\n",
        "        J=J+1\r\n",
        "N_p=J\r\n",
        "J=0\r\n",
        "prime_list=np.zeros(N_p,dtype=np.int32)\r\n",
        "for I in range(1,N):\r\n",
        "    if p[I-1]!=0:\r\n",
        "        prime_list[J]=p[I-1]\r\n",
        "        J=J+1\r\n",
        "\r\n",
        "#This is for more efficient generation of primes (no divisors)\r\n",
        "\"\"\"\r\n",
        "temp_list=np.zeros([N-1],dtype=np.int32)\r\n",
        "for I in range(2,N+1):\r\n",
        "    temp,prime=divisors(I)\r\n",
        "    temp_list[I-2]=prime\r\n",
        "J=0\r\n",
        "for I in range(2,N):\r\n",
        "    if temp_list[I-2]!=0:\r\n",
        "        J=J+1\r\n",
        "N_p=J\r\n",
        "J=0\r\n",
        "prime_list=np.zeros(N_p,dtype=np.int32)\r\n",
        "for I in range(2,N):\r\n",
        "    if temp_list[I-2]!=0:\r\n",
        "        prime_list[J]=temp_list[I-2]\r\n",
        "        J=J+1\r\n",
        "int_plist=np.zeros(N_p,dtype=np.int32)\r\n",
        "for I in range(2,N_p+2):\r\n",
        "    int_plist[I-2]=I\r\n",
        "\"\"\"\r\n",
        "\r\n",
        "\r\n",
        "#DATA FOR MOBIUS FUNCTION\r\n",
        "for I in range(2,N+1):\r\n",
        "    mob[I-1]=mobius(I,prime_list)\r\n",
        "\r\n",
        "\r\n",
        "#DATA FOR IDENTITY FUNCTION\r\n",
        "ident[0]=1\r\n",
        "\r\n",
        "\r\n",
        "#DATA for Liouville’s function\r\n",
        "lio[0]=1\r\n",
        "for I in range(2,N+1):\r\n",
        "    lio[I-1]=Liouville(I,prime_list)\r\n",
        "\r\n",
        "\r\n",
        "#Sum over divisors:\r\n",
        "K=0\r\n",
        "vect=np.zeros([N],dtype=np.int32)\r\n",
        "for I in range(0,N):\r\n",
        "    J=0\r\n",
        "    while d[I,J]!=0:\r\n",
        "        J=J+1\r\n",
        "    vect[I]=J \r\n",
        "    \r\n",
        "    \r\n",
        "arith_func=np.zeros(N,dtype=np.int32)\r\n",
        "for I in range(1,N+1):\r\n",
        "    for J in range(0,vect[I-1]):\r\n",
        "        arith_func[I-1]=arith_func[I-1]+mob[d[I-1,J]-1]*(I/d[I-1,J])\r\n",
        "\r\n",
        "print('Integers less than N')\r\n",
        "print(int_list)\r\n",
        "\r\n",
        "print('List of prime numbers less than N')\r\n",
        "print(prime_list)\r\n",
        "\r\n",
        "\r\n",
        "print('Liovilles Function')\r\n",
        "print(lio)\r\n",
        "\r\n",
        "\"\"\"\r\n",
        "print('totient function up to N')\r\n",
        "print(tot)\r\n",
        "\r\n",
        "print('evaluating an arithmetic function up to N. (To be generalized later)')\r\n",
        "print(arith_func)\r\n",
        "\"\"\"\r\n",
        "\r\n",
        "fig, axx = plt.subplots(1,1)\r\n",
        "plt.scatter(int_list,tot, color='black', linewidth=3, label='Prediction')\r\n",
        "plt.show()\r\n"
      ],
      "execution_count": 24,
      "outputs": [
        {
          "output_type": "stream",
          "text": [
            "Integers less than N\n",
            "[  1   2   3   4   5   6   7   8   9  10  11  12  13  14  15  16  17  18\n",
            "  19  20  21  22  23  24  25  26  27  28  29  30  31  32  33  34  35  36\n",
            "  37  38  39  40  41  42  43  44  45  46  47  48  49  50  51  52  53  54\n",
            "  55  56  57  58  59  60  61  62  63  64  65  66  67  68  69  70  71  72\n",
            "  73  74  75  76  77  78  79  80  81  82  83  84  85  86  87  88  89  90\n",
            "  91  92  93  94  95  96  97  98  99 100 101 102 103 104 105 106 107 108\n",
            " 109 110 111 112 113 114 115 116 117 118 119 120 121 122 123 124 125 126\n",
            " 127 128 129 130 131 132 133 134 135 136 137 138 139 140 141 142 143 144\n",
            " 145 146 147 148 149 150 151 152 153 154 155 156 157 158 159 160 161 162\n",
            " 163 164 165 166 167 168 169 170 171 172 173 174 175 176 177 178 179 180\n",
            " 181 182 183 184 185 186 187 188 189 190 191 192 193 194 195 196 197 198\n",
            " 199 200 201 202 203 204 205 206 207 208 209 210 211 212 213 214 215 216\n",
            " 217 218 219 220 221 222 223 224 225 226 227 228 229 230 231 232 233 234\n",
            " 235 236 237 238 239 240 241 242 243 244 245 246 247 248 249 250 251 252\n",
            " 253 254 255 256 257 258 259 260 261 262 263 264 265 266 267 268 269 270\n",
            " 271 272 273 274 275 276 277 278 279 280 281 282 283 284 285 286 287 288\n",
            " 289 290 291 292 293 294 295 296 297 298 299 300]\n",
            "List of prime numbers less than N\n",
            "[  2   3   5   7  11  13  17  19  23  29  31  37  41  43  47  53  59  61\n",
            "  67  71  73  79  83  89  97 101 103 107 109 113 127 131 137 139 149 151\n",
            " 157 163 167 173 179 181 191 193 197 199 211 223 227 229 233 239 241 251\n",
            " 257 263 269 271 277 281 283 293]\n",
            "Liovilles Function\n",
            "[ 1 -1 -1  1 -1  1 -1 -1  1  1 -1 -1 -1  1  1  1 -1 -1 -1 -1  1  1 -1  1\n",
            "  1  1 -1 -1 -1 -1 -1 -1  1  1  1  1 -1  1  1  1 -1 -1 -1 -1 -1  1 -1 -1\n",
            "  1 -1  1 -1 -1  1  1  1  1  1 -1  1 -1  1 -1  1  1 -1 -1 -1  1 -1 -1 -1\n",
            " -1  1 -1 -1  1 -1 -1 -1  1  1 -1  1  1  1  1  1 -1  1  1 -1  1  1  1  1\n",
            " -1 -1 -1  1 -1 -1 -1  1 -1  1 -1 -1 -1 -1  1 -1 -1 -1  1 -1 -1  1  1 -1\n",
            "  1  1  1 -1 -1  1 -1 -1  1 -1 -1  1  1  1  1  1 -1 -1 -1  1  1  1  1  1\n",
            "  1  1 -1 -1 -1  1 -1  1 -1 -1  1  1 -1  1  1  1  1 -1 -1 -1 -1  1 -1 -1\n",
            "  1 -1 -1 -1 -1 -1 -1 -1  1  1 -1 -1 -1 -1  1  1  1 -1  1 -1  1 -1 -1 -1\n",
            " -1  1 -1  1 -1  1 -1 -1  1  1  1  1  1  1 -1 -1  1  1 -1 -1  1  1  1  1\n",
            "  1  1  1  1  1 -1 -1  1  1  1 -1  1 -1 -1 -1  1 -1  1  1 -1  1 -1 -1  1\n",
            " -1 -1 -1 -1 -1 -1  1  1  1  1 -1 -1  1  1 -1  1 -1 -1  1  1 -1  1 -1 -1\n",
            "  1 -1  1 -1 -1 -1 -1 -1 -1  1 -1  1 -1  1 -1 -1 -1 -1 -1 -1 -1 -1  1 -1\n",
            "  1 -1  1 -1 -1  1  1  1  1  1  1 -1]\n"
          ],
          "name": "stdout"
        },
        {
          "output_type": "display_data",
          "data": {
            "image/png": "[encoded data removed]",
            "text/plain": [
              "<Figure size 432x288 with 1 Axes>"
            ]
          },
          "metadata": {
            "tags": [],
            "needs_background": "light"
          }
        }
      ]
    },
    {
      "cell_type": "markdown",
      "metadata": {
        "id": "NKbK8ypgMo7k"
      },
      "source": [
        "**Saving data for the following functions:**\r\n",
        "\r\n",
        "1)integers\r\n",
        "\r\n",
        "2)totient function\r\n",
        "\r\n",
        "3)mobius function\r\n",
        "\r\n",
        "4)prime numbers\r\n",
        "\r\n",
        "5) divisors\r\n",
        "\r\n",
        "6) Liouville's Function"
      ]
    },
    {
      "cell_type": "code",
      "metadata": {
        "id": "KXrWq1WScUEs"
      },
      "source": [
        "savemat('data_number_theory.mat',{'integers':int_list,'totient':tot, 'mobius':mob, 'primes':prime_list, 'divisors':d, 'liouville':lio})"
      ],
      "execution_count": 25,
      "outputs": []
    },
    {
      "cell_type": "code",
      "metadata": {
        "id": "j91ev8OsLKUR"
      },
      "source": [
        "data = scipy.io.loadmat('data_number_theory.mat')\r\n",
        "integers = data['integers']\r\n",
        "totient = data['totient']\r\n",
        "mobius = data['mobius']\r\n",
        "primes = data['primes']\r\n",
        "divisors = data['divisors']\r\n",
        "liouville = data['liouville']"
      ],
      "execution_count": 26,
      "outputs": []
    }
  ]
}