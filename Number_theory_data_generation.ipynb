{
  "nbformat": 4,
  "nbformat_minor": 0,
  "metadata": {
    "colab": {
      "name": "Number_theory_data_generation.ipynb",
      "provenance": [],
      "authorship_tag": "ABX9TyPaB4MyD/NuX/X/Ab6K+7tP",
      "include_colab_link": true
    },
    "kernelspec": {
      "name": "python3",
      "display_name": "Python 3"
    }
  },
  "cells": [
    {
      "cell_type": "markdown",
      "metadata": {
        "id": "view-in-github",
        "colab_type": "text"
      },
      "source": [
        "<a href=\"https://colab.research.google.com/github/Ricard0000/Number_theory_Machine_Learning/blob/main/Number_theory_data_generation.ipynb\" target=\"_parent\"><img src=\"https://colab.research.google.com/assets/colab-badge.svg\" alt=\"Open In Colab\"/></a>"
      ]
    },
    {
      "cell_type": "code",
      "metadata": {
        "colab": {
          "base_uri": "https://localhost:8080/"
        },
        "id": "3crTLl9hglx9",
        "outputId": "c210e289-c936-48d4-caaa-7b9e5cb5aef2"
      },
      "source": [
        "from google.colab import drive\r\n",
        "drive.mount(\"/content/gdrive\")"
      ],
      "execution_count": 41,
      "outputs": [
        {
          "output_type": "stream",
          "text": [
            "Mounted at /content/gdrive\n"
          ],
          "name": "stdout"
        }
      ]
    },
    {
      "cell_type": "markdown",
      "metadata": {
        "id": "TsScDq9qNTZU"
      },
      "source": [
        "**Generate data:** This code will generate numbers of interest to number theorists. This includes integers, primes, divisors, arithmetic functions. The later code will find retationships between these using Machine Learning techniques."
      ]
    },
    {
      "cell_type": "code",
      "metadata": {
        "colab": {
          "base_uri": "https://localhost:8080/",
          "height": 370
        },
        "id": "4MjYbVk6Egcy",
        "outputId": "6696db1e-ecaf-488a-97fc-55d3833bf2e5"
      },
      "source": [
        "import sys\r\n",
        "sys.path.insert(0, '../../Utilities/')\r\n",
        "from mpl_toolkits.mplot3d import Axes3D\r\n",
        "import tensorflow.compat.v1 as tf\r\n",
        "tf.disable_v2_behavior()\r\n",
        "#import tensorflow as tf\r\n",
        "import numpy as np\r\n",
        "import matplotlib.pyplot as plt\r\n",
        "import time\r\n",
        "import scipy.io\r\n",
        "from scipy.io import savemat\r\n",
        "import math \r\n",
        "\r\n",
        "\r\n",
        "def divisors(N,divNum):\r\n",
        "    A=np.zeros(divNum,dtype=np.int32)\r\n",
        "    J=0\r\n",
        "    for I in range(1,N+1):\r\n",
        "        if np.mod(N,I)==0:\r\n",
        "            A[J]=I\r\n",
        "            J=J+1\r\n",
        "    B=np.zeros(J,dtype=np.int32)\r\n",
        "    for I in range(0,J):\r\n",
        "        B[I]=A[I]\r\n",
        "    if np.size(B)==2:\r\n",
        "        p=B[1]\r\n",
        "    else:\r\n",
        "        p=0\r\n",
        "    return A,p\r\n",
        "    \r\n",
        "def mobius(N,prime_list):\r\n",
        "    J=0\r\n",
        "    temp_list=0*prime_list\r\n",
        "    for I in range(0,np.size(prime_list)):\r\n",
        "        if np.mod(N,prime_list[I])==0:\r\n",
        "            temp_list[J]=prime_list[I]\r\n",
        "            J=J+1\r\n",
        "    temp=1\r\n",
        "    for I in range(0,J):\r\n",
        "        temp=temp*temp_list[I]\r\n",
        "    if N==temp:\r\n",
        "        val=(-1)**J\r\n",
        "    else:\r\n",
        "        val=0\r\n",
        "    return val\r\n",
        "\r\n",
        "def Liouville(N,prime_list):\r\n",
        "    J=0\r\n",
        "    raise_power=0*prime_list\r\n",
        "    for I in range(0,np.size(prime_list)):\r\n",
        "        raise_power[I]=0\r\n",
        "        if np.mod(N,prime_list[I])==0:\r\n",
        "            while (np.mod(N,prime_list[I]**raise_power[I])==0):\r\n",
        "                raise_power[I]=raise_power[I]+1\r\n",
        "            raise_power[I]=raise_power[I]-1\r\n",
        "        else:\r\n",
        "            raise_power[I]=0\r\n",
        "    temp=1\r\n",
        "    for I in range(0,np.size(prime_list)):\r\n",
        "        temp=((-1)**(raise_power[I]))*temp\r\n",
        "    val=temp\r\n",
        "    return val\r\n",
        "\r\n",
        "def totient(N):\r\n",
        "    J=0\r\n",
        "    for I in range(0,N):\r\n",
        "        if math.gcd(N,I)==1:\r\n",
        "            J=J+1\r\n",
        "    val=J\r\n",
        "    return val\r\n",
        "\r\n",
        "def sigma_alpha_func(N,d,alpha):#(definition: \\sigma_{\\alpha}(N)=\\sum_{d|N} d^{\\alpha})\r\n",
        "    val=0\r\n",
        "    for I in range(0,np.size(d[0,:])):\r\n",
        "        val=val+d[N-1,I]**alpha\r\n",
        "    return val\r\n",
        "\r\n",
        "\r\n",
        "def mangolt_func(N,prime_list):\r\n",
        "    J=0\r\n",
        "    raise_power=0*prime_list\r\n",
        "    for I in range(0,np.size(prime_list)):\r\n",
        "        raise_power[I]=0\r\n",
        "        if np.mod(N,prime_list[I])==0:\r\n",
        "            while (np.mod(N,prime_list[I]**raise_power[I])==0):\r\n",
        "                raise_power[I]=raise_power[I]+1\r\n",
        "            raise_power[I]=raise_power[I]-1\r\n",
        "\r\n",
        "    val1=0.0\r\n",
        "    for I in range(0,np.size(prime_list)):\r\n",
        "        if (N==prime_list[I]**raise_power[I]):\r\n",
        "            val1=np.log(prime_list[I])\r\n",
        "        else:\r\n",
        "            val2=0.0\r\n",
        "    val=max(val1,val2)\r\n",
        "    return val\r\n",
        "\r\n",
        "def dirichlet_product(f,g,N,Temp1):\r\n",
        "    arith_func=np.zeros([1,N],dtype=np.int32)\r\n",
        "    for I in range(1,N+1):\r\n",
        "        for J in range(0,Temp1[I-1]):\r\n",
        "            arith_func[0,I-1]=arith_func[0,I-1]+f[0,d[I-1,J]-1]*g[0,int((I-1)/d[I-1,J])]\r\n",
        "    return arith_func\r\n",
        "\r\n",
        "def inverse(f,N,Temp1):\r\n",
        "    if f[0,0]==0:\r\n",
        "        print('ERROR: cant invert!')\r\n",
        "        f_inv=np.zeros([1,N],dtype=np.int32)\r\n",
        "    else:\r\n",
        "        f_inv=np.zeros([1,N],dtype=np.int32)\r\n",
        "        f_inv[0,0]=1/f[0,0]\r\n",
        "        for I in range(1,N+1):\r\n",
        "            for J in range(0,Temp1[I-1]-1):\r\n",
        "                f_inv[0,I-1]=f_inv[0,I-1]+-1/f[0,0]*f[0,int(I/d[I-1,J])-1]*f_inv[0,d[I-1,J]-1]\r\n",
        "    return f_inv\r\n",
        "\r\n",
        "\r\n",
        "\r\n",
        "\r\n",
        "#Start Here\r\n",
        "\r\n",
        "N=300\r\n",
        "int_list=np.zeros([N],dtype=np.int32)\r\n",
        "p=np.zeros([N],dtype=np.int32)\r\n",
        "mob=np.zeros([N],dtype=np.int32)\r\n",
        "mob[0]=1\r\n",
        "tot=np.zeros([N],dtype=np.int32)\r\n",
        "tot[0]=1\r\n",
        "lio=np.zeros([N],dtype=np.int32)\r\n",
        "ident=np.zeros([N],dtype=np.int32)\r\n",
        "sigma_alpha=np.zeros([N],dtype=np.int32)\r\n",
        "mang=np.zeros([N],dtype=float)\r\n",
        "\r\n",
        "#DATA FOR INTEGERS\r\n",
        "for I in range(1,N+1):\r\n",
        "    int_list[I-1]=I\r\n",
        "\r\n",
        "#DATA FOR TOTIENT FUNCTION\r\n",
        "for I in range(1,N+1):\r\n",
        "    tot[I-1]=totient(I)\r\n",
        "\r\n",
        "\r\n",
        "\r\n",
        "#DATA FOR DIVISORS\r\n",
        "divNum=round(N**(1.5379*np.log(2)/np.log(np.log(N))))+2\r\n",
        "d=np.zeros([N,divNum],dtype=np.int32)\r\n",
        "for I in range(1,N+1):\r\n",
        "    temp,prime=divisors(I,divNum)\r\n",
        "    for J in range(0,divNum):\r\n",
        "        d[I-1,J]=temp[J]\r\n",
        "    p[I-1]=prime\r\n",
        "J=0\r\n",
        "for I in range(1,N):\r\n",
        "    if p[I-1]!=0:\r\n",
        "        J=J+1\r\n",
        "N_p=J\r\n",
        "J=0\r\n",
        "prime_list=np.zeros(N_p,dtype=np.int32)\r\n",
        "for I in range(1,N):\r\n",
        "    if p[I-1]!=0:\r\n",
        "        prime_list[J]=p[I-1]\r\n",
        "        J=J+1\r\n",
        "\r\n",
        "#DATA FOR MOBIUS FUNCTION\r\n",
        "for I in range(2,N+1):\r\n",
        "    mob[I-1]=mobius(I,prime_list)\r\n",
        "\r\n",
        "\r\n",
        "#DATA FOR IDENTITY FUNCTION\r\n",
        "ident[0]=1\r\n",
        "\r\n",
        "\r\n",
        "#DATA for Liouville’s function\r\n",
        "lio[0]=1\r\n",
        "for I in range(2,N+1):\r\n",
        "    lio[I-1]=Liouville(I,prime_list)\r\n",
        "\r\n",
        "\r\n",
        "#DATA for Divisor functions (definition: \\sigma_{\\alpha}(N)=\\sum_{d|N} d^{\\alpha})\r\n",
        "\r\n",
        "sigma_alpha[0]=1\r\n",
        "alpha=1\r\n",
        "for I in range(2,N+1):\r\n",
        "    sigma_alpha[I-1]=sigma_alpha_func(I,d,alpha)\r\n",
        "\r\n",
        "#DATA for Mangolt function\r\n",
        "mang[0]=0.0\r\n",
        "for I in range(2,N+1):\r\n",
        "    mang[I-1]=mangolt_func(I,prime_list)\r\n",
        "\r\n",
        "\r\n",
        "\r\n",
        "\r\n",
        "print('List of prime numbers less than N')\r\n",
        "print(prime_list)\r\n",
        "\r\n",
        "\"\"\"\r\n",
        "print('Integers less than N')\r\n",
        "print(int_list)\r\n",
        "\r\n",
        "print('Liovilles Function')\r\n",
        "print(lio)\r\n",
        "\r\n",
        "print('Mangolt Function')\r\n",
        "print(mang)\r\n",
        "\r\n",
        "print('totient function up to N')\r\n",
        "print(tot)\r\n",
        "\r\n",
        "print('evaluating an arithmetic function up to N. (To be generalized later)')\r\n",
        "print(arith_func)\r\n",
        "\"\"\"\r\n",
        "\r\n",
        "fig, axx = plt.subplots(1,1)\r\n",
        "plt.scatter(int_list,tot, color='black', linewidth=3)\r\n",
        "plt.title('Plot of Totient function')\r\n",
        "plt.show()\r\n"
      ],
      "execution_count": 35,
      "outputs": [
        {
          "output_type": "stream",
          "text": [
            "List of prime numbers less than N\n",
            "[  2   3   5   7  11  13  17  19  23  29  31  37  41  43  47  53  59  61\n",
            "  67  71  73  79  83  89  97 101 103 107 109 113 127 131 137 139 149 151\n",
            " 157 163 167 173 179 181 191 193 197 199 211 223 227 229 233 239 241 251\n",
            " 257 263 269 271 277 281 283 293]\n"
          ],
          "name": "stdout"
        },
        {
          "output_type": "display_data",
          "data": {
            "image/png": "[encoded data removed]",
            "text/plain": [
              "<Figure size 432x288 with 1 Axes>"
            ]
          },
          "metadata": {
            "tags": [],
            "needs_background": "light"
          }
        }
      ]
    },
    {
      "cell_type": "markdown",
      "metadata": {
        "id": "NKbK8ypgMo7k"
      },
      "source": [
        "**Saving data for the following functions:**\r\n",
        "\r\n",
        "1)Identify ($I(n)=1$ for $n=1$, $0$ else.)\r\n",
        "\r\n",
        "2)Integers ($N(n)=n$)\r\n",
        "\r\n",
        "3)Totient function ($\\phi(n)$)\r\n",
        "\r\n",
        "4)Mobius function ($\\mu(n)$)\r\n",
        "\r\n",
        "5)Prime numbers ($p$)\r\n",
        "\r\n",
        "6)Divisors ($d(n)$, divisors of n)\r\n",
        "\r\n",
        "7)Liouville's Function ($\\lambda(n)=(-1)^{a_1+a_2+\\cdots+a_m}$, $n=p_1^{a_1}\\cdots p_{m}^{a_m}$)\r\n",
        "\r\n",
        "8)Divisor Functions ($\\sigma_{\\alpha}(n)=\\sum_{d|n}d^{\\alpha}$)\r\n",
        "\r\n",
        "9)Mangolt Function ($\\Lambda(n)=\\log(p)$, $n=p^m$, $0$ else.)"
      ]
    },
    {
      "cell_type": "code",
      "metadata": {
        "id": "KXrWq1WScUEs"
      },
      "source": [
        "savemat('data_number_theory.mat',{'identity':ident,'integers':int_list,'totient':tot, 'mobius':mob, 'primes':prime_list, 'divisors':d, 'liouville':lio, 'sigma_alpha':sigma_alpha, 'mangolt':mang})"
      ],
      "execution_count": 42,
      "outputs": []
    },
    {
      "cell_type": "code",
      "metadata": {
        "id": "j91ev8OsLKUR"
      },
      "source": [
        "data = scipy.io.loadmat('data_number_theory.mat')\r\n",
        "identity = data['identity']\r\n",
        "integers = data['integers']\r\n",
        "totient = data['totient']\r\n",
        "mobius = data['mobius']\r\n",
        "primes = data['primes']\r\n",
        "divisors = data['divisors']\r\n",
        "liouville = data['liouville']\r\n",
        "sigma_alpha = data['sigma_alpha']\r\n",
        "mangolt = data['mangolt']\r\n"
      ],
      "execution_count": 43,
      "outputs": []
    },
    {
      "cell_type": "markdown",
      "metadata": {
        "id": "YVfEDtUHKf5N"
      },
      "source": [
        "**How to compute Dirichlet Products:**\r\n",
        "\r\n",
        "$h(n)=\\sum_{d|n}f(d)g(\\dfrac{n}{d})$\r\n",
        "\r\n",
        "run the code in the cell below."
      ]
    },
    {
      "cell_type": "code",
      "metadata": {
        "id": "iNX9fEPX7-XP",
        "colab": {
          "base_uri": "https://localhost:8080/"
        },
        "outputId": "0dd5bb50-716f-4188-826b-61a9613a5e0d"
      },
      "source": [
        "#Computing Temporary variables needed in future calculations:\r\n",
        "Temp1=np.zeros([N],dtype=np.int32)\r\n",
        "for I in range(0,N):\r\n",
        "    J=0\r\n",
        "    while d[I,J]!=0:\r\n",
        "        J=J+1\r\n",
        "    Temp1[I]=J #This gives the number of divisors for each n\r\n",
        "\r\n",
        "#Computing dirchlet product of f and g: h(n)=\\sum_{d|n}f(d)g(n/d)\r\n",
        "\r\n",
        "f=mobius\r\n",
        "g=identity\r\n",
        "\r\n",
        "h=dirichlet_product(f,g,N,Temp1) #h=dirichlet product of f and g\r\n",
        "\r\n",
        "print(h)"
      ],
      "execution_count": 44,
      "outputs": [
        {
          "output_type": "stream",
          "text": [
            "[[ 1 -1 -1  0 -1  1 -1  0  0  1 -1  0 -1  1  1  0 -1  0 -1  0  1  1 -1  0\n",
            "   0  1  0  0 -1 -1 -1  0  1  1  1  0 -1  1  1  0 -1 -1 -1  0  0  1 -1  0\n",
            "   0  0  1  0 -1  0  1  0  1  1 -1  0 -1  1  0  0  1 -1 -1  0  1 -1 -1  0\n",
            "  -1  1  0  0  1 -1 -1  0  0  1 -1  0  1  1  1  0 -1  0  1  0  1  1  1  0\n",
            "  -1  0  0  0 -1 -1 -1  0 -1  1 -1  0 -1 -1  1  0 -1 -1  1  0  0  1  1  0\n",
            "   0  1  1  0  0  0 -1  0  1 -1 -1  0  1  1  0  0 -1 -1 -1  0  1  1  1  0\n",
            "   1  1  0  0 -1  0 -1  0  0 -1  1  0 -1  1  1  0  1  0 -1  0 -1  1 -1  0\n",
            "   0 -1  0  0 -1 -1  0  0  1  1 -1  0 -1 -1  1  0  1 -1  1  0  0 -1 -1  0\n",
            "  -1  1 -1  0 -1  0 -1  0  1  1  1  0  1  1  0  0  1  1 -1  0  1  1  1  0\n",
            "   1  1  1  0  1 -1 -1  0  0  1 -1  0 -1 -1 -1  0 -1  0  1  0  1 -1 -1  0\n",
            "  -1  0  0  0  0 -1  1  0  1  0 -1  0  1  1 -1  0 -1 -1  1  0  0  1 -1  0\n",
            "   1 -1  1  0 -1  0 -1  0 -1  1  0  0 -1  1  0  0 -1 -1 -1  0 -1 -1  1  0\n",
            "   0 -1  1  0 -1  0  1  0  0  1  1  0]]\n"
          ],
          "name": "stdout"
        }
      ]
    },
    {
      "cell_type": "markdown",
      "metadata": {
        "id": "uVZBjMmXMw82"
      },
      "source": [
        "**How to compute inverse of $f(n)$:**\r\n",
        "\r\n",
        "(Note: We have to assume $f(1)\\neq 0$!)\r\n",
        "\r\n",
        "By definition we have\r\n",
        "\r\n",
        "$f^{-1}(1)=\\dfrac{1}{f(1)}$  and,\r\n",
        "\r\n",
        "$f^{-1}(n)=\\dfrac{-1}{f(1)}\\sum_{d|n,d<n}f(\\dfrac{n}{d})f^{-1}(d)$ for $n>1$.\r\n",
        "\r\n",
        "\r\n"
      ]
    },
    {
      "cell_type": "code",
      "metadata": {
        "colab": {
          "base_uri": "https://localhost:8080/"
        },
        "id": "7JWLEz6vOGvY",
        "outputId": "eea8737b-a33d-4a63-9f2c-09b87fd54562"
      },
      "source": [
        "#Computing inverses of arithmetic functions:\r\n",
        "\r\n",
        "f_inverse=inverse(f,N,Temp1)\r\n",
        "print(f)\r\n",
        "print(f_inverse)\r\n",
        "should_return_f=inverse(f_inverse,N,Temp1)\r\n",
        "print(should_return_f)\r\n"
      ],
      "execution_count": 45,
      "outputs": [
        {
          "output_type": "stream",
          "text": [
            "[[ 1 -1 -1  0 -1  1 -1  0  0  1 -1  0 -1  1  1  0 -1  0 -1  0  1  1 -1  0\n",
            "   0  1  0  0 -1 -1 -1  0  1  1  1  0 -1  1  1  0 -1 -1 -1  0  0  1 -1  0\n",
            "   0  0  1  0 -1  0  1  0  1  1 -1  0 -1  1  0  0  1 -1 -1  0  1 -1 -1  0\n",
            "  -1  1  0  0  1 -1 -1  0  0  1 -1  0  1  1  1  0 -1  0  1  0  1  1  1  0\n",
            "  -1  0  0  0 -1 -1 -1  0 -1  1 -1  0 -1 -1  1  0 -1 -1  1  0  0  1  1  0\n",
            "   0  1  1  0  0  0 -1  0  1 -1 -1  0  1  1  0  0 -1 -1 -1  0  1  1  1  0\n",
            "   1  1  0  0 -1  0 -1  0  0 -1  1  0 -1  1  1  0  1  0 -1  0 -1  1 -1  0\n",
            "   0 -1  0  0 -1 -1  0  0  1  1 -1  0 -1 -1  1  0  1 -1  1  0  0 -1 -1  0\n",
            "  -1  1 -1  0 -1  0 -1  0  1  1  1  0  1  1  0  0  1  1 -1  0  1  1  1  0\n",
            "   1  1  1  0  1 -1 -1  0  0  1 -1  0 -1 -1 -1  0 -1  0  1  0  1 -1 -1  0\n",
            "  -1  0  0  0  0 -1  1  0  1  0 -1  0  1  1 -1  0 -1 -1  1  0  0  1 -1  0\n",
            "   1 -1  1  0 -1  0 -1  0 -1  1  0  0 -1  1  0  0 -1 -1 -1  0 -1 -1  1  0\n",
            "   0 -1  1  0 -1  0  1  0  0  1  1  0]]\n",
            "[[1 1 1 1 1 1 1 1 1 1 1 1 1 1 1 1 1 1 1 1 1 1 1 1 1 1 1 1 1 1 1 1 1 1 1 1\n",
            "  1 1 1 1 1 1 1 1 1 1 1 1 1 1 1 1 1 1 1 1 1 1 1 1 1 1 1 1 1 1 1 1 1 1 1 1\n",
            "  1 1 1 1 1 1 1 1 1 1 1 1 1 1 1 1 1 1 1 1 1 1 1 1 1 1 1 1 1 1 1 1 1 1 1 1\n",
            "  1 1 1 1 1 1 1 1 1 1 1 1 1 1 1 1 1 1 1 1 1 1 1 1 1 1 1 1 1 1 1 1 1 1 1 1\n",
            "  1 1 1 1 1 1 1 1 1 1 1 1 1 1 1 1 1 1 1 1 1 1 1 1 1 1 1 1 1 1 1 1 1 1 1 1\n",
            "  1 1 1 1 1 1 1 1 1 1 1 1 1 1 1 1 1 1 1 1 1 1 1 1 1 1 1 1 1 1 1 1 1 1 1 1\n",
            "  1 1 1 1 1 1 1 1 1 1 1 1 1 1 1 1 1 1 1 1 1 1 1 1 1 1 1 1 1 1 1 1 1 1 1 1\n",
            "  1 1 1 1 1 1 1 1 1 1 1 1 1 1 1 1 1 1 1 1 1 1 1 1 1 1 1 1 1 1 1 1 1 1 1 1\n",
            "  1 1 1 1 1 1 1 1 1 1 1 1]]\n",
            "[[ 1 -1 -1  0 -1  1 -1  0  0  1 -1  0 -1  1  1  0 -1  0 -1  0  1  1 -1  0\n",
            "   0  1  0  0 -1 -1 -1  0  1  1  1  0 -1  1  1  0 -1 -1 -1  0  0  1 -1  0\n",
            "   0  0  1  0 -1  0  1  0  1  1 -1  0 -1  1  0  0  1 -1 -1  0  1 -1 -1  0\n",
            "  -1  1  0  0  1 -1 -1  0  0  1 -1  0  1  1  1  0 -1  0  1  0  1  1  1  0\n",
            "  -1  0  0  0 -1 -1 -1  0 -1  1 -1  0 -1 -1  1  0 -1 -1  1  0  0  1  1  0\n",
            "   0  1  1  0  0  0 -1  0  1 -1 -1  0  1  1  0  0 -1 -1 -1  0  1  1  1  0\n",
            "   1  1  0  0 -1  0 -1  0  0 -1  1  0 -1  1  1  0  1  0 -1  0 -1  1 -1  0\n",
            "   0 -1  0  0 -1 -1  0  0  1  1 -1  0 -1 -1  1  0  1 -1  1  0  0 -1 -1  0\n",
            "  -1  1 -1  0 -1  0 -1  0  1  1  1  0  1  1  0  0  1  1 -1  0  1  1  1  0\n",
            "   1  1  1  0  1 -1 -1  0  0  1 -1  0 -1 -1 -1  0 -1  0  1  0  1 -1 -1  0\n",
            "  -1  0  0  0  0 -1  1  0  1  0 -1  0  1  1 -1  0 -1 -1  1  0  0  1 -1  0\n",
            "   1 -1  1  0 -1  0 -1  0 -1  1  0  0 -1  1  0  0 -1 -1 -1  0 -1 -1  1  0\n",
            "   0 -1  1  0 -1  0  1  0  0  1  1  0]]\n"
          ],
          "name": "stdout"
        }
      ]
    }
  ]
}